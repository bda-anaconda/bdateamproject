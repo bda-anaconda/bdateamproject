{
 "cells": [
  {
   "cell_type": "code",
   "execution_count": 6,
   "metadata": {},
   "outputs": [],
   "source": [
    "import pandas as pd"
   ]
  },
  {
   "cell_type": "code",
   "execution_count": null,
   "metadata": {},
   "outputs": [],
   "source": [
    "# delete columns that are not needed\n",
    "\n",
    "# Load the merged Excel data\n",
    "df = pd.read_excel('globalterrorismdb_0522dist.xlsx')\n",
    "\n",
    "# List all the columns that were used for merging\n",
    "common_columns = ['iyear', 'imonth', 'iday','country_txt', 'region_txt', 'city', 'latitude','longitude', 'location', 'targtype1_txt', 'natlty1_txt','weaptype1_txt']\n",
    "\n",
    "# Get a list of columns in the merged dataframe\n",
    "merged_columns = df.columns.tolist()\n",
    "\n",
    "# Identify the columns to drop (columns not in common_columns)\n",
    "columns_to_drop = [col for col in merged_columns if col not in common_columns]\n",
    "\n",
    "# Drop the columns that weren't merged\n",
    "df.drop(columns=columns_to_drop, inplace=True)\n",
    "\n",
    "# Save the updated dataframe to a new Excel file\n",
    "df.to_excel('globalterrorismdb_0522dist.xlsx_clean.xlsx', index=False)\n"
   ]
  },
  {
   "cell_type": "code",
   "execution_count": 7,
   "metadata": {},
   "outputs": [],
   "source": [
    "# Merge GTD excel sheets\n",
    "\n",
    "# Load the first Excel sheet\n",
    "df1 = pd.read_excel('globalterrorismdb_0522dist.xlsx')\n",
    "\n",
    "# Load the second Excel sheet\n",
    "df2 = pd.read_excel('globalterrorismdb_2021Jan-June_1222dist.xlsx')\n",
    "\n",
    "# Define the list of common columns to merge on\n",
    "common_columns = ['iyear', 'imonth', 'iday','country_txt', 'region_txt', 'city', 'latitude','longitude', 'location', 'targtype1_txt', 'natlty1_txt','weaptype1_txt']\n",
    "\n",
    "# Merge the two sheets based on the common columns\n",
    "merged_df = pd.merge(df1, df2, on=common_columns, how='outer')\n",
    "\n",
    "# Check if the merged dataframe is empty\n",
    "if merged_df.empty:\n",
    "    print(\"No matching data found for merging.\")\n",
    "\n",
    "# Save the merged data to a new Excel file\n",
    "merged_df.to_excel('gtd_total_data.xlsx', index=False)\n"
   ]
  }
 ],
 "metadata": {
  "kernelspec": {
   "display_name": "Python 3",
   "language": "python",
   "name": "python3"
  },
  "language_info": {
   "codemirror_mode": {
    "name": "ipython",
    "version": 3
   },
   "file_extension": ".py",
   "mimetype": "text/x-python",
   "name": "python",
   "nbconvert_exporter": "python",
   "pygments_lexer": "ipython3",
   "version": "3.11.2"
  },
  "orig_nbformat": 4,
  "vscode": {
   "interpreter": {
    "hash": "aee8b7b246df8f9039afb4144a1f6fd8d2ca17a180786b69acc140d282b71a49"
   }
  }
 },
 "nbformat": 4,
 "nbformat_minor": 2
}
